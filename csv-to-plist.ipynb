{
 "cells": [
  {
   "cell_type": "code",
   "execution_count": 21,
   "metadata": {},
   "outputs": [],
   "source": [
    "import pandas as pd\n",
    "import numpy as np\n",
    "from plistlib import load, loads, dump, FMT_XML\n",
    "import plistlib\n",
    "import os\n",
    "\n",
    "csv=pd.read_csv('example.csv')\n"
   ]
  },
  {
   "cell_type": "code",
   "execution_count": 5,
   "metadata": {},
   "outputs": [
    {
     "data": {
      "text/html": [
       "<div>\n",
       "<style scoped>\n",
       "    .dataframe tbody tr th:only-of-type {\n",
       "        vertical-align: middle;\n",
       "    }\n",
       "\n",
       "    .dataframe tbody tr th {\n",
       "        vertical-align: top;\n",
       "    }\n",
       "\n",
       "    .dataframe thead th {\n",
       "        text-align: right;\n",
       "    }\n",
       "</style>\n",
       "<table border=\"1\" class=\"dataframe\">\n",
       "  <thead>\n",
       "    <tr style=\"text-align: right;\">\n",
       "      <th></th>\n",
       "      <th>c軟f纖o硬ep上e眼耳rt十層l淋b骨血h心血管</th>\n",
       "      <th>-help</th>\n",
       "    </tr>\n",
       "  </thead>\n",
       "  <tbody>\n",
       "    <tr>\n",
       "      <th>0</th>\n",
       "      <td>Basophil</td>\n",
       "      <td>b-b</td>\n",
       "    </tr>\n",
       "    <tr>\n",
       "      <th>1</th>\n",
       "      <td>Eosinophil</td>\n",
       "      <td>b-e</td>\n",
       "    </tr>\n",
       "    <tr>\n",
       "      <th>2</th>\n",
       "      <td>externa elastic lamina</td>\n",
       "      <td>b-ee</td>\n",
       "    </tr>\n",
       "    <tr>\n",
       "      <th>3</th>\n",
       "      <td>internal elastic membrane</td>\n",
       "      <td>b-ie</td>\n",
       "    </tr>\n",
       "    <tr>\n",
       "      <th>4</th>\n",
       "      <td>Lymphocyte</td>\n",
       "      <td>b-l</td>\n",
       "    </tr>\n",
       "    <tr>\n",
       "      <th>...</th>\n",
       "      <td>...</td>\n",
       "      <td>...</td>\n",
       "    </tr>\n",
       "    <tr>\n",
       "      <th>175</th>\n",
       "      <td>inner nuclear layer</td>\n",
       "      <td>rt-6</td>\n",
       "    </tr>\n",
       "    <tr>\n",
       "      <th>176</th>\n",
       "      <td>inner plexiform layer</td>\n",
       "      <td>rt-7</td>\n",
       "    </tr>\n",
       "    <tr>\n",
       "      <th>177</th>\n",
       "      <td>ganglion cell layer</td>\n",
       "      <td>rt-8</td>\n",
       "    </tr>\n",
       "    <tr>\n",
       "      <th>178</th>\n",
       "      <td>nerve fiber layer</td>\n",
       "      <td>rt-9</td>\n",
       "    </tr>\n",
       "    <tr>\n",
       "      <th>179</th>\n",
       "      <td>inner limiting membrane</td>\n",
       "      <td>rt-10</td>\n",
       "    </tr>\n",
       "  </tbody>\n",
       "</table>\n",
       "<p>180 rows × 2 columns</p>\n",
       "</div>"
      ],
      "text/plain": [
       "     c軟f纖o硬ep上e眼耳rt十層l淋b骨血h心血管  -help\n",
       "0                     Basophil    b-b\n",
       "1                   Eosinophil    b-e\n",
       "2       externa elastic lamina   b-ee\n",
       "3    internal elastic membrane   b-ie\n",
       "4                   Lymphocyte    b-l\n",
       "..                         ...    ...\n",
       "175        inner nuclear layer   rt-6\n",
       "176      inner plexiform layer   rt-7\n",
       "177        ganglion cell layer   rt-8\n",
       "178          nerve fiber layer   rt-9\n",
       "179    inner limiting membrane  rt-10\n",
       "\n",
       "[180 rows x 2 columns]"
      ]
     },
     "execution_count": 5,
     "metadata": {},
     "output_type": "execute_result"
    }
   ],
   "source": [
    "csv"
   ]
  },
  {
   "cell_type": "code",
   "execution_count": 25,
   "metadata": {},
   "outputs": [
    {
     "data": {
      "text/plain": [
       "{'phrase': 'Basophil', 'shortcut': 'b-b'}"
      ]
     },
     "execution_count": 25,
     "metadata": {},
     "output_type": "execute_result"
    }
   ],
   "source": [
    "fileName='test1.plist'\n",
    "pl=[]\n",
    "key=['phrase','shortcut']\n",
    "csv=np.array(csv)\n",
    "for line in csv:\n",
    "    pl.append({l[0]:l[1] for l in list(zip(key,line))})\n",
    "\n",
    "pl[0]\n"
   ]
  },
  {
   "cell_type": "code",
   "execution_count": 26,
   "metadata": {},
   "outputs": [],
   "source": [
    "with open(fileName, 'wb') as fp:\n",
    "    dump(pl, fp)"
   ]
  },
  {
   "cell_type": "code",
   "execution_count": 13,
   "metadata": {},
   "outputs": [],
   "source": []
  },
  {
   "cell_type": "code",
   "execution_count": 1,
   "metadata": {},
   "outputs": [],
   "source": [
    "from plistlib import dump\n",
    "import csv\n",
    "\n",
    "csv_path='example.csv'\n",
    "plist_path=csv_path.split('.')[0]+'.plist'\n",
    "\n",
    "\n",
    "#for line in csv:\n",
    "    #pl.append({l[0]:l[1] for l in list(zip(key,#line))})\n",
    "\n",
    "with open(csv_path, newline='') as csvfile:\n",
    "\n",
    "    result=[]\n",
    "    key=['phrase','shortcut']\n",
    "    # 讀取 CSV 檔案內容\n",
    "    rows = csv.reader(csvfile)\n",
    "\n",
    "    # 以迴圈輸出每一列\n",
    "    for row in rows:\n",
    "        result.append({l[0]:l[1] for l in list(zip(key,row))})\n",
    "\n",
    "    with open(plist_path, 'wb') as fp:\n",
    "        dump(result, fp)\n"
   ]
  },
  {
   "cell_type": "code",
   "execution_count": null,
   "metadata": {},
   "outputs": [],
   "source": []
  }
 ],
 "metadata": {
  "kernelspec": {
   "display_name": "Python 3",
   "language": "python",
   "name": "python3"
  },
  "language_info": {
   "codemirror_mode": {
    "name": "ipython",
    "version": 3
   },
   "file_extension": ".py",
   "mimetype": "text/x-python",
   "name": "python",
   "nbconvert_exporter": "python",
   "pygments_lexer": "ipython3",
   "version": "3.10.8"
  },
  "orig_nbformat": 4,
  "vscode": {
   "interpreter": {
    "hash": "98590ff4fe04c8543246b2a01debd3de3c5ca9b666f43f1fa87d5110c692004c"
   }
  }
 },
 "nbformat": 4,
 "nbformat_minor": 2
}
